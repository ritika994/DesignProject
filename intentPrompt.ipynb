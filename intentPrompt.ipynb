{
  "cells": [
    {
      "cell_type": "markdown",
      "metadata": {
        "id": "view-in-github",
        "colab_type": "text"
      },
      "source": [
        "<a href=\"https://colab.research.google.com/github/omnimanwani/DesignProject/blob/main/intentPrompt.ipynb\" target=\"_parent\"><img src=\"https://colab.research.google.com/assets/colab-badge.svg\" alt=\"Open In Colab\"/></a>"
      ]
    },
    {
      "cell_type": "code",
      "execution_count": 1,
      "metadata": {
        "id": "jPc15u-yHpSS"
      },
      "outputs": [],
      "source": [
        "import json\n",
        "import pandas as pd\n",
        "import logging\n",
        "from tqdm import tqdm\n",
        "import re\n",
        "from google.colab import files"
      ]
    },
    {
      "cell_type": "code",
      "execution_count": 2,
      "metadata": {
        "id": "_G0vqT7vHs_A"
      },
      "outputs": [],
      "source": [
        "logging.basicConfig(level=logging.INFO, format='%(asctime)s - %(levelname)s - %(message)s')\n",
        "logger = logging.getLogger(__name__)"
      ]
    },
    {
      "cell_type": "code",
      "execution_count": 3,
      "metadata": {
        "id": "Xduz2_vB5Das"
      },
      "outputs": [],
      "source": [
        "class RedialProcessor:\n",
        "    def __init__(self):\n",
        "        \"\"\"Initialize the processor with intent categories and entity patterns.\"\"\"\n",
        "        self.intent_categories = {\n",
        "            \"movie recommendation\": [\n",
        "                \"can you recommend\", \"what movies\", \"suggest\", \"looking for\",\n",
        "                \"what should I watch\", \"similar to\", \"like movies about\"\n",
        "            ],\n",
        "            \"asking for preferences\": [\n",
        "                \"do you like\", \"have you seen\", \"what do you think about\",\n",
        "                \"are you into\", \"what's your favorite\", \"what kind of movies\"\n",
        "            ],\n",
        "            \"providing opinion\": [\n",
        "                \"I think\", \"I like\", \"I love\", \"I enjoyed\", \"I didn't like\",\n",
        "                \"it was\", \"in my opinion\", \"I felt\"\n",
        "            ],\n",
        "            \"requesting information\": [\n",
        "                \"what is\", \"who stars in\", \"when was\", \"tell me about\",\n",
        "                \"how long is\", \"where can I watch\"\n",
        "            ],\n",
        "            \"acknowledgment\": [\n",
        "                \"okay\", \"thanks\", \"thank you\", \"got it\", \"I see\",\n",
        "                \"that's helpful\", \"good to know\"\n",
        "            ],\n",
        "            \"greeting\": [\n",
        "                \"hi\", \"hello\", \"hey\", \"good morning\", \"good evening\",\n",
        "                \"how are you\"\n",
        "            ],\n",
        "            \"farewell\": [\n",
        "                \"bye\", \"goodbye\", \"see you\", \"take care\", \"thanks again\",\n",
        "                \"have a good\"\n",
        "            ],\n",
        "            \"chitchat\": [\n",
        "                \"how's your day\", \"what's up\", \"nice weather\",\n",
        "                \"that's interesting\", \"really\"\n",
        "            ]\n",
        "        }\n",
        "\n",
        "        self.entity_patterns = {\n",
        "            'PERSON': [\n",
        "                r'(?:Mr\\.|Mrs\\.|Ms\\.|Dr\\.|Prof\\.) [A-Z][a-z]+(?:\\s[A-Z][a-z]+)+',\n",
        "                r'[A-Z][a-z]+(?:\\s[A-Z][a-z]+)+',\n",
        "                r'(?:actor|actress|director|producer)\\s+[A-Z][a-z]+(?:\\s[A-Z][a-z]+)+'\n",
        "            ],\n",
        "            'WORK_OF_ART': [\n",
        "                r'(?:The\\s|A\\s|An\\s)?[A-Z][^.!?]*?(?:movie|film|series|show)',\n",
        "                r'(?:The\\s|A\\s|An\\s)?[A-Z][^.!?]*?\\(\\d{4}\\)',\n",
        "                r'\"[^\"]+\"|\\'[^\\']+\\'',\n",
        "                r'[A-Z][a-z0-9]+(?:\\s+[A-Z][a-z0-9]+)*:\\s[A-Z][a-z0-9]+(?:\\s+[A-Z][a-z0-9]+)*'\n",
        "            ],\n",
        "            'ORG': [\n",
        "                r'(?:Disney|Netflix|Amazon|HBO|Universal|Paramount|MGM|Sony|Warner Bros\\.|Marvel|Pixar)',\n",
        "                r'[A-Z][a-z]+(?:\\s+[A-Z][a-z]+)*\\s+(?:Studios|Pictures|Entertainment|Productions|Films)',\n",
        "                r'[A-Z]{2,}(?:\\s+[A-Z][a-z]+)*'\n",
        "            ]\n",
        "        }\n",
        "\n",
        "    def clean_text(self, text):\n",
        "        \"\"\"Clean and preprocess the message text.\"\"\"\n",
        "        text = re.sub(r'@\\d+', 'MOVIE_MENTION', text)\n",
        "        text = ' '.join(text.split())\n",
        "        return text\n",
        "\n",
        "    def identify_intent(self, text):\n",
        "        \"\"\"Identify intent based on keyword matching and patterns.\"\"\"\n",
        "        text = text.lower()\n",
        "        max_confidence = 0\n",
        "        identified_intent = \"chitchat\"\n",
        "\n",
        "        for intent, patterns in self.intent_categories.items():\n",
        "            matches = sum(1 for pattern in patterns if pattern in text)\n",
        "            if matches > 0:\n",
        "                confidence = matches / len(patterns)\n",
        "                if confidence > max_confidence:\n",
        "                    max_confidence = confidence\n",
        "                    identified_intent = intent\n",
        "\n",
        "        return identified_intent, max_confidence\n",
        "\n",
        "    def extract_entities(self, text):\n",
        "        \"\"\"Extract entities using regex patterns.\"\"\"\n",
        "        entities = []\n",
        "\n",
        "        for entity_type, patterns in self.entity_patterns.items():\n",
        "            for pattern in patterns:\n",
        "                matches = re.finditer(pattern, text)\n",
        "                for match in matches:\n",
        "                    entities.append((match.group(), entity_type))\n",
        "\n",
        "        return entities\n",
        "\n",
        "    def extract_entities_and_intents(self, text):\n",
        "        \"\"\"Extract entities and classify intent from text.\"\"\"\n",
        "        try:\n",
        "            cleaned_text = self.clean_text(text)\n",
        "            entities = self.extract_entities(cleaned_text)\n",
        "            intent, confidence = self.identify_intent(cleaned_text)\n",
        "\n",
        "            return {\n",
        "                'entities': entities,\n",
        "                'intent': intent,\n",
        "                'confidence': confidence\n",
        "            }\n",
        "\n",
        "        except Exception as e:\n",
        "            logger.error(f\"Error processing text: '{text}'. Error: {str(e)}\")\n",
        "            return {'entities': [], 'intent': 'unknown', 'confidence': 0.0}\n",
        "\n",
        "    def process_dataset(self, input_path, output_filename):\n",
        "        \"\"\"Process the ReDial dataset and create augmented CSV.\"\"\"\n",
        "        try:\n",
        "            data = []\n",
        "\n",
        "            with open(input_path, 'r') as file:\n",
        "                num_lines = sum(1 for _ in file)\n",
        "                file.seek(0)\n",
        "\n",
        "                for line in tqdm(file, total=num_lines, desc=\"Processing dialogues\"):\n",
        "                    dialogue = json.loads(line)\n",
        "\n",
        "                    for message in dialogue['messages']:\n",
        "                        text = message['text']\n",
        "                        result = self.extract_entities_and_intents(text)\n",
        "\n",
        "                        message_data = {\n",
        "                            'conversation_id': dialogue['conversationId'],\n",
        "                            'message_id': message['messageId'],\n",
        "                            'sender_type': 'initiator' if message['senderWorkerId'] == dialogue['initiatorWorkerId'] else 'respondent',\n",
        "                            'original_text': text,\n",
        "                            'processed_text': self.clean_text(text),\n",
        "                            'intent': result['intent'],\n",
        "                            'intent_confidence': result['confidence']\n",
        "                        }\n",
        "\n",
        "                        for idx, (entity_text, entity_type) in enumerate(result['entities']):\n",
        "                            message_data[f'entity_{idx+1}_text'] = entity_text\n",
        "                            message_data[f'entity_{idx+1}_type'] = entity_type\n",
        "\n",
        "                        data.append(message_data)\n",
        "\n",
        "            df = pd.DataFrame(data)\n",
        "\n",
        "            df.to_csv(output_filename, index=False)\n",
        "            logger.info(f\"Successfully processed dataset and saved to {output_filename}\")\n",
        "            files.download(output_filename)\n",
        "\n",
        "        except Exception as e:\n",
        "            logger.error(f\"Error processing dataset: {str(e)}\")\n",
        "            raise"
      ]
    },
    {
      "cell_type": "code",
      "execution_count": 6,
      "metadata": {
        "colab": {
          "base_uri": "https://localhost:8080/",
          "height": 34
        },
        "id": "hAHbOgjVI2SD",
        "outputId": "008d5fbf-90ae-4ee0-a221-af30d91afdca"
      },
      "outputs": [
        {
          "output_type": "stream",
          "name": "stderr",
          "text": [
            "Processing dialogues: 100%|██████████| 1342/1342 [00:03<00:00, 381.59it/s]\n"
          ]
        },
        {
          "output_type": "display_data",
          "data": {
            "text/plain": [
              "<IPython.core.display.Javascript object>"
            ],
            "application/javascript": [
              "\n",
              "    async function download(id, filename, size) {\n",
              "      if (!google.colab.kernel.accessAllowed) {\n",
              "        return;\n",
              "      }\n",
              "      const div = document.createElement('div');\n",
              "      const label = document.createElement('label');\n",
              "      label.textContent = `Downloading \"${filename}\": `;\n",
              "      div.appendChild(label);\n",
              "      const progress = document.createElement('progress');\n",
              "      progress.max = size;\n",
              "      div.appendChild(progress);\n",
              "      document.body.appendChild(div);\n",
              "\n",
              "      const buffers = [];\n",
              "      let downloaded = 0;\n",
              "\n",
              "      const channel = await google.colab.kernel.comms.open(id);\n",
              "      // Send a message to notify the kernel that we're ready.\n",
              "      channel.send({})\n",
              "\n",
              "      for await (const message of channel.messages) {\n",
              "        // Send a message to notify the kernel that we're ready.\n",
              "        channel.send({})\n",
              "        if (message.buffers) {\n",
              "          for (const buffer of message.buffers) {\n",
              "            buffers.push(buffer);\n",
              "            downloaded += buffer.byteLength;\n",
              "            progress.value = downloaded;\n",
              "          }\n",
              "        }\n",
              "      }\n",
              "      const blob = new Blob(buffers, {type: 'application/binary'});\n",
              "      const a = document.createElement('a');\n",
              "      a.href = window.URL.createObjectURL(blob);\n",
              "      a.download = filename;\n",
              "      div.appendChild(a);\n",
              "      a.click();\n",
              "      div.remove();\n",
              "    }\n",
              "  "
            ]
          },
          "metadata": {}
        },
        {
          "output_type": "display_data",
          "data": {
            "text/plain": [
              "<IPython.core.display.Javascript object>"
            ],
            "application/javascript": [
              "download(\"download_e27b13db-c490-4db3-a66b-2d4be8a65f52\", \"augmented_redial_data.csv\", 3570553)"
            ]
          },
          "metadata": {}
        }
      ],
      "source": [
        "def main():\n",
        "    \"\"\"Main execution function.\"\"\"\n",
        "    try:\n",
        "\n",
        "        processor = RedialProcessor()\n",
        "\n",
        "        input_path = '/content/test_data.jsonl'\n",
        "        output_filename = 'augmented_redial_data.csv'\n",
        "\n",
        "        processor.process_dataset(input_path, output_filename)\n",
        "\n",
        "        logger.info(\"Processing completed successfully!\")\n",
        "\n",
        "    except Exception as e:\n",
        "        logger.error(f\"Error in main execution: {str(e)}\")\n",
        "        raise\n",
        "\n",
        "if __name__ == \"__main__\":\n",
        "    main()\n"
      ]
    }
  ],
  "metadata": {
    "colab": {
      "provenance": [],
      "include_colab_link": true
    },
    "kernelspec": {
      "display_name": "Python 3",
      "name": "python3"
    },
    "language_info": {
      "name": "python"
    }
  },
  "nbformat": 4,
  "nbformat_minor": 0
}